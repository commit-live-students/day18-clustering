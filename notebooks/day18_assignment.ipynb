{
 "cells": [
  {
   "cell_type": "markdown",
   "metadata": {},
   "source": [
    "## Setting: \n",
    "\n",
    "* Quite often we use clustering for feature engineering\n",
    "* We create clusters and use the membership of samples to those clusters as features\n",
    "* Today we will try to use clustering as a feature engineering technique for a simple dataset like iris and see if imporves results"
   ]
  },
  {
   "cell_type": "markdown",
   "metadata": {},
   "source": [
    "# Task\n",
    "\n",
    "1. For the `iris` dataset, build a logistic regression model against the cluster-membership variable alone.\n",
    "2. For the `iris` dataset, build an SVM model by adding the cluster-membership variable to the feature matrix. Did the model performance go up?\n",
    "\n",
    "\n",
    "You need to write a class `Iris`, which has following methods\n",
    "\n",
    "* __init__()\n",
    "    * Initiates `load_data()` method of sklearn\n",
    "    * returns None\n",
    "    \n",
    "* load_data()\n",
    "    * loads given inbuilt dataset\n",
    "    * splits into test and train datasets\n",
    "    * accepts \n",
    "        * data (str, dataset to be loaded)\n",
    "    * returns \n",
    "        * 1\n",
    "    \n",
    "* Kmeans()\n",
    "    * Performs kmeans clustering on the loaded data\n",
    "    * Adds clusters to the original data (if output parameter is specified as \"all\") or replaces original data with cluster membership data (column matrix)\n",
    "    * accepts \n",
    "        * technique (k-means initialization techique) (default \"random\")\n",
    "        * n_clusters (number of clusters) (default 2)\n",
    "        * output (\"all\", \"one\") (default \"all\")\n",
    "    * returns\n",
    "        * self\n",
    "        \n",
    "* model()\n",
    "    * runs given model on the dataset and returns accuracy score\n",
    "    * accepts \n",
    "        * model sklearn ml algorithm object\n",
    "    * returns\n",
    "        * accuracy score"
   ]
  },
  {
   "cell_type": "code",
   "execution_count": 1,
   "metadata": {
    "collapsed": true
   },
   "outputs": [],
   "source": [
    "from sklearn.cluster import KMeans\n",
    "from sklearn.metrics import accuracy_score\n",
    "from sklearn.linear_model import LogisticRegression\n",
    "from sklearn.datasets import load_iris\n",
    "from sklearn.model_selection import train_test_split\n",
    "from sklearn import svm\n",
    "import pandas as pd, numpy as np"
   ]
  },
  {
   "cell_type": "code",
   "execution_count": 34,
   "metadata": {
    "collapsed": true
   },
   "outputs": [],
   "source": [
    "class Iris(object):\n",
    "    \n",
    "    def __init__(self):\n",
    "        self.load_data()\n",
    "        return None\n",
    "    \n",
    "    def load_data(self, datafn=load_iris):\n",
    "        data = datafn()\n",
    "        self.X_train, self.X_test, self.y_train, self.y_test = train_test_split(data.data, data.target, test_size=0.3, random_state=42)\n",
    "        return 1\n",
    "    \n",
    "    def Kmeans(self, technique='random', n_clusters=2, output = 'all'): \n",
    "        km = KMeans(init=technique, n_clusters=n_clusters)    \n",
    "        km.fit(self.X_train)\n",
    "        self.X_train = pd.DataFrame(self.X_train)\n",
    "        self.X_test = pd.DataFrame(self.X_test)\n",
    "        if output == 'all':\n",
    "            self.X_train['km'] = km.labels_\n",
    "            self.X_test['km'] = km.predict(self.X_test)\n",
    "        elif output == 'one':\n",
    "            self.X_train = km.labels_.reshape(-1, 1)\n",
    "            self.X_test = km.predict(self.X_test).reshape(-1, 1) \n",
    "        return self\n",
    "    \n",
    "    def model(self, model = LogisticRegression()):\n",
    "        model.fit(self.X_train, self.y_train)\n",
    "        print self.X_train.shape\n",
    "        predictions = model.predict(self.X_test)\n",
    "        return accuracy_score(self.y_test, predictions)\n"
   ]
  },
  {
   "cell_type": "markdown",
   "metadata": {},
   "source": [
    "### Iteration 1"
   ]
  },
  {
   "cell_type": "code",
   "execution_count": 35,
   "metadata": {},
   "outputs": [
    {
     "name": "stdout",
     "output_type": "stream",
     "text": [
      "(105, 5)\n"
     ]
    },
    {
     "data": {
      "text/plain": [
       "0.9555555555555556"
      ]
     },
     "execution_count": 35,
     "metadata": {},
     "output_type": "execute_result"
    }
   ],
   "source": [
    "Iris().Kmeans(n_clusters = 3).model()"
   ]
  },
  {
   "cell_type": "markdown",
   "metadata": {},
   "source": [
    "#### Iteration 2"
   ]
  },
  {
   "cell_type": "code",
   "execution_count": 36,
   "metadata": {},
   "outputs": [
    {
     "name": "stdout",
     "output_type": "stream",
     "text": [
      "(105, 4)\n"
     ]
    },
    {
     "data": {
      "text/plain": [
       "0.97777777777777775"
      ]
     },
     "execution_count": 36,
     "metadata": {},
     "output_type": "execute_result"
    }
   ],
   "source": [
    "Iris().model()"
   ]
  },
  {
   "cell_type": "markdown",
   "metadata": {},
   "source": [
    "#### Iteration 3"
   ]
  },
  {
   "cell_type": "code",
   "execution_count": 37,
   "metadata": {},
   "outputs": [
    {
     "name": "stdout",
     "output_type": "stream",
     "text": [
      "(105, 1)\n"
     ]
    },
    {
     "data": {
      "text/plain": [
       "0.51111111111111107"
      ]
     },
     "execution_count": 37,
     "metadata": {},
     "output_type": "execute_result"
    }
   ],
   "source": [
    "Iris().Kmeans(n_clusters = 3, output='one').model()"
   ]
  },
  {
   "cell_type": "code",
   "execution_count": 39,
   "metadata": {},
   "outputs": [
    {
     "name": "stdout",
     "output_type": "stream",
     "text": [
      "(105, 1)\n"
     ]
    },
    {
     "data": {
      "text/plain": [
       "0.93333333333333335"
      ]
     },
     "execution_count": 39,
     "metadata": {},
     "output_type": "execute_result"
    }
   ],
   "source": [
    "from sklearn.svm import SVC\n",
    "Iris().Kmeans(n_clusters = 3, output='one').model(SVC())"
   ]
  }
 ],
 "metadata": {
  "kernelspec": {
   "display_name": "Python 2",
   "language": "python",
   "name": "python2"
  },
  "language_info": {
   "codemirror_mode": {
    "name": "ipython",
    "version": 2
   },
   "file_extension": ".py",
   "mimetype": "text/x-python",
   "name": "python",
   "nbconvert_exporter": "python",
   "pygments_lexer": "ipython2",
   "version": "2.7.13"
  },
  "widgets": {
   "state": {},
   "version": "1.1.2"
  }
 },
 "nbformat": 4,
 "nbformat_minor": 2
}
